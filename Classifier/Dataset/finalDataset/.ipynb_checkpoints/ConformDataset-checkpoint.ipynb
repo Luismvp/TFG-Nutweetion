{
 "cells": [
  {
   "cell_type": "markdown",
   "metadata": {},
   "source": [
    "# Aggregate the data in a single file"
   ]
  },
  {
   "cell_type": "code",
   "execution_count": null,
   "metadata": {},
   "outputs": [],
   "source": [
    "#Get the csv.tmp files and merge them into a single file with the tweets of the day.\n",
    "#Shape Dataset of the day with the place field filled in.\n",
    "files = glob.glob('./FinalData/*.csv')\n",
    "files.sort()\n",
    "files\n",
    "df = pd.read_csv(files[0])\n",
    "\n",
    "for i in range(len(files)):\n",
    "    if i > 0:\n",
    "        dfi = pd.read_csv(files[i])\n",
    "        df = pd.concat([df,dfi])       \n",
    "df.to_csv(\"Dataset.csv\", encoding='utf-8', index=False)"
   ]
  }
 ],
 "metadata": {
  "kernelspec": {
   "display_name": "Python 3",
   "language": "python",
   "name": "python3"
  },
  "language_info": {
   "codemirror_mode": {
    "name": "ipython",
    "version": 3
   },
   "file_extension": ".py",
   "mimetype": "text/x-python",
   "name": "python",
   "nbconvert_exporter": "python",
   "pygments_lexer": "ipython3",
   "version": "3.6.5"
  }
 },
 "nbformat": 4,
 "nbformat_minor": 2
}
